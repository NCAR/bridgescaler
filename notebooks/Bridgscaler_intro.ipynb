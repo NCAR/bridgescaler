{
 "cells": [
  {
   "cell_type": "markdown",
   "id": "63310dd8-a974-4bcb-8d91-2250077b548e",
   "metadata": {},
   "source": [
    "# Bridgescaler Introduction"
   ]
  },
  {
   "cell_type": "markdown",
   "id": "32c43d07-5af2-47c3-9656-fc11f640f66c",
   "metadata": {},
   "source": [
    "This is a short notebook covering some of the features and use cases of bridgescaler. The main repoistory can be found [here](https://github.com/NCAR/bridgescaler).\n",
    "\n",
    "Bridgescaler is desigend to add some functionality to scikit-learn pre-processors. "
   ]
  },
  {
   "cell_type": "markdown",
   "id": "2d0b7dda-e7af-4fab-9069-2690c860f0f1",
   "metadata": {},
   "source": [
    "#### Install"
   ]
  },
  {
   "cell_type": "code",
   "execution_count": 1,
   "id": "7848129f-d7b5-48d3-8da4-6e5b09026777",
   "metadata": {},
   "outputs": [],
   "source": [
    "# uncomment the below line if you need to install 2\n",
    "# !pip install bridgescaler"
   ]
  },
  {
   "cell_type": "markdown",
   "id": "9b07b11c-8981-4e58-a8fa-a06f07cca893",
   "metadata": {},
   "source": [
    "## Imports"
   ]
  },
  {
   "cell_type": "code",
   "execution_count": 2,
   "id": "838e6400-b2b9-43d0-8a31-844dba199f7f",
   "metadata": {},
   "outputs": [],
   "source": [
    "import numpy as np\n",
    "import pandas as pd\n",
    "import matplotlib.pyplot as plt\n",
    "\n",
    "from bridgescaler import save_scaler, load_scaler\n",
    "from bridgescaler.group import GroupStandardScaler\n",
    "from sklearn.preprocessing import QuantileTransformer"
   ]
  },
  {
   "cell_type": "markdown",
   "id": "36dd5aaf-1555-46a0-b0eb-76546d72c63c",
   "metadata": {},
   "source": [
    "## Numpy Example"
   ]
  },
  {
   "cell_type": "code",
   "execution_count": 3,
   "id": "634f7659-21c1-4f96-ab3c-237ea85ee588",
   "metadata": {},
   "outputs": [],
   "source": [
    "# Define mean and standard deviation\n",
    "mean = 500  # This is approximately the midpoint of 10 and 1000\n",
    "std_dev = 300  # This value is chosen to spread values roughly within the desired range\n",
    "\n",
    "# Generate the array\n",
    "gaussian_array = np.random.normal(mean, std_dev, 10000)"
   ]
  },
  {
   "cell_type": "code",
   "execution_count": 4,
   "id": "f7be8c82-9f58-4835-8f95-5606b7ac6850",
   "metadata": {},
   "outputs": [
    {
     "name": "stdout",
     "output_type": "stream",
     "text": [
      "Remaining array shape: (8000,)\n",
      "Random samples shape: (2000,)\n"
     ]
    },
    {
     "data": {
      "image/png": "[encoded data removed]",
      "text/plain": [
       "<Figure size 640x480 with 1 Axes>"
      ]
     },
     "metadata": {},
     "output_type": "display_data"
    }
   ],
   "source": [
    "# Randomly choose 2000 indices\n",
    "indices_to_remove = np.random.choice(gaussian_array.size, 2000, replace=False)\n",
    "\n",
    "# Get the samples corresponding to the chosen indices\n",
    "random_samples = gaussian_array[indices_to_remove]\n",
    "\n",
    "# Remove the selected samples from the original array\n",
    "remaining_arr = np.delete(gaussian_array, indices_to_remove)\n",
    "\n",
    "plt.hist(remaining_arr, bins=100, label='remaining array')\n",
    "plt.hist(random_samples, bins=100, label='random sampled')\n",
    "plt.legend()\n",
    "\n",
    "print(\"Remaining array shape:\", remaining_arr.shape)\n",
    "print(\"Random samples shape:\", random_samples.shape)"
   ]
  },
  {
   "cell_type": "markdown",
   "id": "8dd8f9f6-4673-4baf-9f80-ae14af502c48",
   "metadata": {},
   "source": [
    "#### Let's scale it!"
   ]
  },
  {
   "cell_type": "code",
   "execution_count": 5,
   "id": "37c21018-07cd-4e74-9656-cd5f7919eec9",
   "metadata": {},
   "outputs": [],
   "source": [
    "scaler = QuantileTransformer(n_quantiles = 74)"
   ]
  },
  {
   "cell_type": "code",
   "execution_count": 6,
   "id": "085f3dd5-704d-4a64-88c2-e495faf8e5a4",
   "metadata": {},
   "outputs": [],
   "source": [
    "arr_transformed = scaler.fit_transform(remaining_arr.reshape(-1, 1))"
   ]
  },
  {
   "cell_type": "code",
   "execution_count": 7,
   "id": "e77ca417-db7b-4b86-856e-8ca0a5b28021",
   "metadata": {},
   "outputs": [],
   "source": [
    "filename = \"quantile_scaler.json\""
   ]
  },
  {
   "cell_type": "code",
   "execution_count": 8,
   "id": "2a769941-850d-4379-a00a-4d6c7a60d4d1",
   "metadata": {},
   "outputs": [],
   "source": [
    "# save to json file\n",
    "save_scaler(scaler, filename)\n",
    "# create new StandardScaler from json file information.\n",
    "new_scaler = load_scaler(filename)\n",
    "# new_scaler is a StandardScaler object"
   ]
  },
  {
   "cell_type": "markdown",
   "id": "f4db109a-22ee-473f-a055-bc30645da34c",
   "metadata": {},
   "source": [
    "Let's load those parameters, and fit on the subsampled dataset from above:"
   ]
  },
  {
   "cell_type": "code",
   "execution_count": 9,
   "id": "8cbd215e-57eb-403a-8759-b0b8d8a04462",
   "metadata": {},
   "outputs": [],
   "source": [
    "random_transformed = new_scaler.fit_transform(random_samples.reshape(-1,1))"
   ]
  },
  {
   "cell_type": "markdown",
   "id": "857b3868-7082-49e1-9cbe-4da46fd59d32",
   "metadata": {},
   "source": [
    "We can also inverse transform to get close to the original array. The number of quantiles will have a large impact on this."
   ]
  },
  {
   "cell_type": "code",
   "execution_count": 10,
   "id": "0bd88fdf-3ad5-4f69-b564-26676be298ec",
   "metadata": {},
   "outputs": [
    {
     "data": {
      "text/plain": [
       "array([[386.35688039],\n",
       "       [586.64628448],\n",
       "       [155.9777724 ],\n",
       "       ...,\n",
       "       [296.04124775],\n",
       "       [ 50.26756938],\n",
       "       [457.81957258]])"
      ]
     },
     "execution_count": 10,
     "metadata": {},
     "output_type": "execute_result"
    }
   ],
   "source": [
    "inverted_random = new_scaler.inverse_transform(random_transformed)\n",
    "inverted_random"
   ]
  },
  {
   "cell_type": "markdown",
   "id": "3da9bf26-2e80-4345-8f9f-74dd136d42b5",
   "metadata": {},
   "source": [
    "Let's see how far apart the medians are:"
   ]
  },
  {
   "cell_type": "code",
   "execution_count": 11,
   "id": "0a398609-b80d-4cd3-acf5-dc3bd0bf5b1e",
   "metadata": {},
   "outputs": [
    {
     "data": {
      "text/plain": [
       "0.3066"
      ]
     },
     "execution_count": 11,
     "metadata": {},
     "output_type": "execute_result"
    }
   ],
   "source": [
    "median_random = np.median(random_transformed)\n",
    "median_arr = np.median(arr_transformed)\n",
    "percentage_difference = np.round(np.abs(median_random - median_arr) / median_random * 100, 4)\n",
    "percentage_difference"
   ]
  },
  {
   "cell_type": "markdown",
   "id": "b6799f65-f898-4357-aef2-e9283e9ecc73",
   "metadata": {},
   "source": [
    "## Pandas Example"
   ]
  },
  {
   "cell_type": "markdown",
   "id": "0d328fee-9ad4-4245-8e33-6ef53c7213e4",
   "metadata": {},
   "source": [
    "This is using a [Group Scaler](https://bridgescaler.readthedocs.io/en/latest/group.html). "
   ]
  },
  {
   "cell_type": "code",
   "execution_count": 12,
   "id": "89a78409-d918-427e-8321-cc2e3b277dc9",
   "metadata": {},
   "outputs": [
    {
     "data": {
      "text/html": [
       "<div>\n",
       "<style scoped>\n",
       "    .dataframe tbody tr th:only-of-type {\n",
       "        vertical-align: middle;\n",
       "    }\n",
       "\n",
       "    .dataframe tbody tr th {\n",
       "        vertical-align: top;\n",
       "    }\n",
       "\n",
       "    .dataframe thead th {\n",
       "        text-align: right;\n",
       "    }\n",
       "</style>\n",
       "<table border=\"1\" class=\"dataframe\">\n",
       "  <thead>\n",
       "    <tr style=\"text-align: right;\">\n",
       "      <th></th>\n",
       "      <th>a</th>\n",
       "      <th>b</th>\n",
       "      <th>c</th>\n",
       "      <th>d</th>\n",
       "      <th>e</th>\n",
       "    </tr>\n",
       "  </thead>\n",
       "  <tbody>\n",
       "    <tr>\n",
       "      <th>count</th>\n",
       "      <td>1000.000000</td>\n",
       "      <td>1000.000000</td>\n",
       "      <td>1000.000000</td>\n",
       "      <td>1000.000000</td>\n",
       "      <td>1000.000000</td>\n",
       "    </tr>\n",
       "    <tr>\n",
       "      <th>mean</th>\n",
       "      <td>0.493160</td>\n",
       "      <td>0.508249</td>\n",
       "      <td>0.482308</td>\n",
       "      <td>0.500310</td>\n",
       "      <td>0.490955</td>\n",
       "    </tr>\n",
       "    <tr>\n",
       "      <th>std</th>\n",
       "      <td>0.287404</td>\n",
       "      <td>0.290955</td>\n",
       "      <td>0.283399</td>\n",
       "      <td>0.286028</td>\n",
       "      <td>0.289448</td>\n",
       "    </tr>\n",
       "    <tr>\n",
       "      <th>min</th>\n",
       "      <td>0.000282</td>\n",
       "      <td>0.000466</td>\n",
       "      <td>0.000220</td>\n",
       "      <td>0.001726</td>\n",
       "      <td>0.002557</td>\n",
       "    </tr>\n",
       "    <tr>\n",
       "      <th>25%</th>\n",
       "      <td>0.239252</td>\n",
       "      <td>0.254053</td>\n",
       "      <td>0.234961</td>\n",
       "      <td>0.260231</td>\n",
       "      <td>0.238156</td>\n",
       "    </tr>\n",
       "    <tr>\n",
       "      <th>50%</th>\n",
       "      <td>0.489762</td>\n",
       "      <td>0.528342</td>\n",
       "      <td>0.479333</td>\n",
       "      <td>0.498497</td>\n",
       "      <td>0.489239</td>\n",
       "    </tr>\n",
       "    <tr>\n",
       "      <th>75%</th>\n",
       "      <td>0.747075</td>\n",
       "      <td>0.764794</td>\n",
       "      <td>0.714280</td>\n",
       "      <td>0.757906</td>\n",
       "      <td>0.743647</td>\n",
       "    </tr>\n",
       "    <tr>\n",
       "      <th>max</th>\n",
       "      <td>0.999566</td>\n",
       "      <td>0.998453</td>\n",
       "      <td>0.999272</td>\n",
       "      <td>0.997966</td>\n",
       "      <td>0.999053</td>\n",
       "    </tr>\n",
       "  </tbody>\n",
       "</table>\n",
       "</div>"
      ],
      "text/plain": [
       "                 a            b            c            d            e\n",
       "count  1000.000000  1000.000000  1000.000000  1000.000000  1000.000000\n",
       "mean      0.493160     0.508249     0.482308     0.500310     0.490955\n",
       "std       0.287404     0.290955     0.283399     0.286028     0.289448\n",
       "min       0.000282     0.000466     0.000220     0.001726     0.002557\n",
       "25%       0.239252     0.254053     0.234961     0.260231     0.238156\n",
       "50%       0.489762     0.528342     0.479333     0.498497     0.489239\n",
       "75%       0.747075     0.764794     0.714280     0.757906     0.743647\n",
       "max       0.999566     0.998453     0.999272     0.997966     0.999053"
      ]
     },
     "execution_count": 12,
     "metadata": {},
     "output_type": "execute_result"
    }
   ],
   "source": [
    "x_rand = np.random.random(size=(1000, 5))\n",
    "data = pd.DataFrame(data=x_rand,\n",
    "                    columns=[\"a\", \"b\", \"c\", \"d\", \"e\"])\n",
    "data.describe()"
   ]
  },
  {
   "cell_type": "code",
   "execution_count": 13,
   "id": "f2366229-634e-463f-b989-efd216efb58a",
   "metadata": {},
   "outputs": [],
   "source": [
    "groups = [[\"a\", \"b\"], [\"c\", \"d\"], \"e\"]\n",
    "group_scaler = GroupStandardScaler()\n",
    "x_transformed = group_scaler.fit_transform(data, groups=groups)"
   ]
  },
  {
   "cell_type": "markdown",
   "id": "5c565379-6bfb-4b41-b0fe-0f6cf3907aec",
   "metadata": {},
   "source": [
    "We can save out this file like the above:"
   ]
  },
  {
   "cell_type": "code",
   "execution_count": 14,
   "id": "6d04a3af-7fe1-42de-b9b6-793b82870bea",
   "metadata": {},
   "outputs": [],
   "source": [
    "# save to json file\n",
    "save_scaler(group_scaler, 'group_scaler.json')"
   ]
  }
 ],
 "metadata": {
  "kernelspec": {
   "display_name": "Python [conda env:unidata-cpu]",
   "language": "python",
   "name": "conda-env-unidata-cpu-py"
  },
  "language_info": {
   "codemirror_mode": {
    "name": "ipython",
    "version": 3
   },
   "file_extension": ".py",
   "mimetype": "text/x-python",
   "name": "python",
   "nbconvert_exporter": "python",
   "pygments_lexer": "ipython3",
   "version": "3.10.0"
  }
 },
 "nbformat": 4,
 "nbformat_minor": 5
}
